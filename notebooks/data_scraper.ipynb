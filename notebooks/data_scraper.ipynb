{
 "cells": [
  {
   "cell_type": "code",
   "execution_count": null,
   "metadata": {},
   "outputs": [],
   "source": [
    "! pip install ../."
   ]
  },
  {
   "cell_type": "code",
   "execution_count": null,
   "metadata": {},
   "outputs": [],
   "source": [
    "\n",
    "import logging\n",
    "import json\n",
    "import pandas as pd\n",
    "from pathlib import Path\n",
    "\n",
    "from datetime import datetime, date\n",
    "from selenium import webdriver\n",
    "from src.ingestion.selenium.selenium_download import *\n",
    "from src.ingestion.selenium.selenium_utils import *\n",
    "from src.ingestion.utils.custom_constants import *\n",
    "logger = logging.getLogger(__name__)"
   ]
  },
  {
   "attachments": {},
   "cell_type": "markdown",
   "metadata": {},
   "source": [
    "## 1. Load data and config"
   ]
  },
  {
   "cell_type": "code",
   "execution_count": null,
   "metadata": {},
   "outputs": [],
   "source": [
    "root_dir = Path(\"../\").resolve()\n",
    "config_folder = root_dir / \"config\"\n",
    "downloads_folder = root_dir.parent / \"nfl-airflow\" / \"downloads\""
   ]
  },
  {
   "cell_type": "code",
   "execution_count": null,
   "metadata": {},
   "outputs": [],
   "source": [
    "with open(os.path.join(config_folder, 'base_config.json')) as file:\n",
    "    base_config = json.load(file)"
   ]
  },
  {
   "cell_type": "markdown",
   "metadata": {},
   "source": [
    "## 2. Run scrapper"
   ]
  },
  {
   "cell_type": "code",
   "execution_count": null,
   "metadata": {},
   "outputs": [],
   "source": [
    "global_details = base_config['global_details']\n",
    "bronze_layer = base_config['bronze_layer']"
   ]
  },
  {
   "cell_type": "code",
   "execution_count": null,
   "metadata": {},
   "outputs": [],
   "source": [
    "execution_date_as_datetime = datetime.now().strftime(\"%Y%m%dT%H%M%S\")\n",
    "\n",
    "for dataset_config in bronze_layer['datasets']:\n",
    "    \n",
    "    query_target = dataset_config[\"query_target\"]\n",
    "    url_config = dataset_config['url_config']\n",
    "    local_downloads = os.path.join(downloads_folder, query_target)\n",
    "    query_year_range = dataset_config.get(\"query_year_range\", \"\")\n",
    "    if query_year_range:\n",
    "        y1, y2 = map(int, query_year_range.split('-'))\n",
    "        query_year_range = list(range(y1, y2+1, 1))\n",
    "    else: \n",
    "        query_year_range = [datetime.now().year-1]\n",
    "\n",
    "    try: \n",
    "        for yr in query_year_range:\n",
    "            target_file_name = (\n",
    "                f\"{query_target}_{yr}.csv\"\n",
    "            )\n",
    "            if not os.path.exists(local_downloads):\n",
    "                os.makedirs(local_downloads)\n",
    "            logging.info(f\"Creating {local_downloads}\")\n",
    "            \n",
    "            driver = webdriver.Chrome(options=options, chrome_options=chrome_options)\n",
    "            \n",
    "            download_nfl(\n",
    "                driver, \n",
    "                query_target,\n",
    "                os.path.join(local_downloads, target_file_name),\n",
    "                yr,\n",
    "                dataset_config[\"query_team_name\"],\n",
    "                url_config,\n",
    "            )\n",
    "            logging.info(f\"Downloaded {target_file_name}\")\n",
    "        \n",
    "    except Exception as e:\n",
    "        print(e)\n",
    "        print(f\"Failed to download {query_target} from {url_config['url']}\")\n",
    "    "
   ]
  },
  {
   "cell_type": "code",
   "execution_count": null,
   "metadata": {},
   "outputs": [],
   "source": []
  },
  {
   "cell_type": "code",
   "execution_count": null,
   "metadata": {},
   "outputs": [],
   "source": []
  }
 ],
 "metadata": {
  "kernelspec": {
   "display_name": "base",
   "language": "python",
   "name": "python3"
  },
  "language_info": {
   "codemirror_mode": {
    "name": "ipython",
    "version": 3
   },
   "file_extension": ".py",
   "mimetype": "text/x-python",
   "name": "python",
   "nbconvert_exporter": "python",
   "pygments_lexer": "ipython3",
   "version": "3.8.16"
  },
  "orig_nbformat": 4
 },
 "nbformat": 4,
 "nbformat_minor": 2
}
